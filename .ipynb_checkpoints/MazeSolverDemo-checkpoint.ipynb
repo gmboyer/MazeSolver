{
 "cells": [
  {
   "cell_type": "markdown",
   "metadata": {},
   "source": [
    "# MazeSolver\n",
    "\n",
    "A Python script to solve simple mazes encoded as dictionaries via many iterations of random walks, then reporting the shortest route found from start to exit."
   ]
  },
  {
   "cell_type": "markdown",
   "metadata": {},
   "source": [
    "### Function definitions"
   ]
  },
  {
   "cell_type": "code",
   "execution_count": 1,
   "metadata": {},
   "outputs": [],
   "source": [
    "import random\n",
    "\n",
    "\"\"\"This is a function randomly walks through a maze once\n",
    "by taking n steps. It reports the route taken\n",
    "and whether the maze was solved.\"\"\"\n",
    "def find_random_plan(start, problem, solution, steps):\n",
    "    random_plan = []\n",
    "    situation_sequence = []\n",
    "    solved = False\n",
    "\n",
    "    current_situation = start\n",
    "\n",
    "    for p in xrange(1, steps):\n",
    "        options = problem.get(current_situation).keys()\n",
    "        random_choice = random.choice(options)\n",
    "        if current_situation == solution:\n",
    "            situation_sequence.append(current_situation)\n",
    "            solved = True\n",
    "            break\n",
    "        if random_choice in problem[current_situation].keys():\n",
    "            random_plan.append(random_choice)\n",
    "            situation_sequence.append(current_situation)\n",
    "            current_situation = problem[current_situation][random_choice]\n",
    "\n",
    "    return random_plan, situation_sequence, solved\n",
    "\n",
    "\"\"\"This is a function reports an optimized route through\n",
    "an input maze by repeatedly running through it with\n",
    "find_random_plan and then reporting the shortest route\n",
    "it found after n iterations.\"\"\"\n",
    "def find_best_plan(iterations, problem, solution):\n",
    "\n",
    "    current_solved_plan = []\n",
    "    current_solved_situation_sequence = []\n",
    "    best_plan = []\n",
    "    best_situation_sequence = []\n",
    "    problem_solved = False\n",
    "\n",
    "    for i in xrange(1, iterations):\n",
    "\n",
    "        random_plan, situation_sequence, solved = find_random_plan(start, problem, solution, iterations)\n",
    "\n",
    "        if solved:\n",
    "            current_solved_plan = random_plan\n",
    "            current_solved_situation_sequence = situation_sequence\n",
    "            maze_solved = True\n",
    "\n",
    "        if len(best_plan) == 0 and solved:\n",
    "            best_plan = current_solved_plan\n",
    "            best_situation_sequence = current_solved_situation_sequence\n",
    "\n",
    "        if len(current_solved_plan) < len(best_plan) and len(best_plan) != 0 and solved:\n",
    "            best_plan = current_solved_plan\n",
    "            best_situation_sequence = current_solved_situation_sequence\n",
    "\n",
    "    return best_plan, best_situation_sequence, maze_solved"
   ]
  },
  {
   "cell_type": "markdown",
   "metadata": {},
   "source": [
    "### Solve Maze 1\n",
    "\n",
    "Maze layout:\n",
    "\n",
    "               end\n",
    "               |\n",
    "       J       D\n",
    "       |       |\n",
    "       I---B---C                  ^\n",
    "           |                      |\n",
    "           A---start           (North)\n",
    "\n",
    "\n",
    "The most direct solution is: [W, N, E, N, N]"
   ]
  },
  {
   "cell_type": "code",
   "execution_count": 2,
   "metadata": {},
   "outputs": [
    {
     "name": "stdout",
     "output_type": "stream",
     "text": [
      "The best plan for maze_1 was: ['W', 'N', 'E', 'N', 'N']\n",
      "It involved this sequence: ['start of maze', 'room A', 'room B', 'room C', 'room D', 'end of maze']\n",
      "Was the problem solved? True\n"
     ]
    }
   ],
   "source": [
    "maze1 = {\"start of maze\": {\"W\": \"room A\"},\n",
    "         \"room A\": {\"N\": \"room B\", \"E\": \"start of maze\"},\n",
    "         \"room B\": {\"W\": \"room I\", \"E\": \"room C\"},\n",
    "         \"room C\": {\"W\": \"room B\", \"N\": \"room D\"},\n",
    "         \"room D\": {\"S\": \"room C\", \"N\": \"end of maze\"},\n",
    "         \"room I\": {\"N\": \"room J\", \"E\": \"room B\"},\n",
    "         \"room J\": {\"S\": \"room I\"},\n",
    "         \"end of maze\": {\"S\": \"room D\"}\n",
    "         }\n",
    "\n",
    "start = \"start of maze\"\n",
    "problem = maze1\n",
    "solution = \"end of maze\"\n",
    "\n",
    "\n",
    "### attempt to solve maze1 with 1000 tries\n",
    "iterations = 1000\n",
    "best_plan, best_situation_sequence, problem_solved = find_best_plan(iterations, problem, solution)\n",
    "\n",
    "print \"The best plan for maze1 was:\", best_plan\n",
    "print \"It involved this sequence:\", best_situation_sequence\n",
    "print \"Was the problem solved?\", problem_solved"
   ]
  },
  {
   "cell_type": "markdown",
   "metadata": {},
   "source": [
    "Success!"
   ]
  },
  {
   "cell_type": "markdown",
   "metadata": {},
   "source": [
    "### Solve Maze 2\n",
    "\n",
    "Maze layout:\n",
    "    \n",
    "                   end\n",
    "                   |\n",
    "       J       D---L\n",
    "       |       |   |\n",
    "       I---B---C---K              ^\n",
    "           |                      |\n",
    "           A---start           (North)\n",
    "    \n",
    "The two most direct solutions are:\n",
    "[W, N, E, E, N, N] or\n",
    "[W, N, E, N, E, N]"
   ]
  },
  {
   "cell_type": "code",
   "execution_count": 3,
   "metadata": {},
   "outputs": [
    {
     "name": "stdout",
     "output_type": "stream",
     "text": [
      "The best plan for maze_2 was: ['W', 'N', 'E', 'N', 'E', 'N']\n",
      "It involved this sequence: ['start of maze', 'room A', 'room B', 'room C', 'room D', 'room L', 'end of maze']\n",
      "Was the problem solved? True\n"
     ]
    }
   ],
   "source": [
    "maze2 = {\"start of maze\": {\"W\": \"room A\"},\n",
    "         \"room A\": {\"N\": \"room B\", \"E\": \"start of maze\"},\n",
    "         \"room B\": {\"W\": \"room I\", \"E\": \"room C\"},\n",
    "         \"room C\": {\"W\": \"room B\", \"N\": \"room D\", \"E\": \"room K\"},\n",
    "         \"room D\": {\"S\": \"room C\", \"E\": \"room L\"},\n",
    "         \"room I\": {\"N\": \"room J\", \"E\": \"room B\"},\n",
    "         \"room J\": {\"S\": \"room I\"},\n",
    "         \"room K\": {\"W\": \"room C\", \"N\": \"room L\"},\n",
    "         \"room L\": {\"N\": \"end of maze\", \"S\": \"room K\", \"W\": \"room D\"},\n",
    "         \"end of maze\": {\"S\": \"room D\"}\n",
    "         }\n",
    "\n",
    "start = \"start of maze\"\n",
    "problem = maze2\n",
    "solution = \"end of maze\"\n",
    "\n",
    "### attempt to solve maze2 with 1000 tries\n",
    "iterations = 1000\n",
    "best_plan, best_situation_sequence, problem_solved = find_best_plan(iterations, problem, solution)\n",
    "\n",
    "print \"The best plan for maze2 was:\", best_plan\n",
    "print \"It involved this sequence:\", best_situation_sequence\n",
    "print \"Was the problem solved?\", problem_solved"
   ]
  },
  {
   "cell_type": "markdown",
   "metadata": {},
   "source": [
    "Success!"
   ]
  }
 ],
 "metadata": {
  "kernelspec": {
   "display_name": "Python 2",
   "language": "python",
   "name": "python2"
  },
  "language_info": {
   "codemirror_mode": {
    "name": "ipython",
    "version": 2
   },
   "file_extension": ".py",
   "mimetype": "text/x-python",
   "name": "python",
   "nbconvert_exporter": "python",
   "pygments_lexer": "ipython2",
   "version": "2.7.13"
  }
 },
 "nbformat": 4,
 "nbformat_minor": 2
}
